{
 "cells": [
  {
   "cell_type": "code",
   "execution_count": null,
   "metadata": {},
   "outputs": [],
   "source": [
    "# from transformers import pipeline\n",
    "# pipe = pipeline(\"text-generation\", model=\"meta-llama/Meta-Llama-3-8B\")ㅠ"
   ]
  },
  {
   "cell_type": "code",
   "execution_count": 1,
   "metadata": {},
   "outputs": [
    {
     "name": "stderr",
     "output_type": "stream",
     "text": [
      "/tmp/ipykernel_2018283/3448285883.py:19: LangChainDeprecationWarning: The method `BaseLLM.__call__` was deprecated in langchain-core 0.1.7 and will be removed in 1.0. Use :meth:`~invoke` instead.\n",
      "  response = llm(prompt.format(system_prompt=system_prompt, user_prompt=user_prompt))\n"
     ]
    },
    {
     "data": {
      "text/plain": [
       "\"Nice to meet you! I'm doing well, thanks for asking. It's not often I get to start a conversation from scratch. What brings you here today?\""
      ]
     },
     "execution_count": 1,
     "metadata": {},
     "output_type": "execute_result"
    }
   ],
   "source": [
    "from langchain_community.llms import Ollama\n",
    "from langchain import PromptTemplate\n",
    "\n",
    "llm = Ollama(model=\"llama3\", stop=[\"<|eot_id|>\"])\n",
    "\n",
    "def get_model_response(user_prompt, system_prompt):\n",
    "    template = \"\"\"\n",
    "    <|begin_of_text|>\n",
    "    <|start_header_id|>system<|end_header_id|>\n",
    "    {system_prompt}\n",
    "    <|eot_id|>\n",
    "    <|start_header_id|>user<|end_header_id|>\n",
    "    {user_prompt}\n",
    "    <|eot_id|>\n",
    "    <|start_header_id|>assistant<|end_header_id|>\n",
    "    \"\"\"\n",
    "    prompt = PromptTemplate(input_varuiables = [\"system_prompt\", \"user_prompt\"], template=template)\n",
    "\n",
    "    response = llm(prompt.format(system_prompt=system_prompt, user_prompt=user_prompt))\n",
    "    return response\n",
    "\n",
    "get_model_response(\"Hello\", \"How are you?\")"
   ]
  },
  {
   "cell_type": "code",
   "execution_count": 3,
   "metadata": {},
   "outputs": [
    {
     "data": {
      "text/plain": [
       "'You said \"Hello\"!\\n\\nTo answer your original question: Barack Obama is the 44th President of the United States, serving two terms from 2009 to 2017. He was the first African American to hold the office. Born in Honolulu, Hawaii, Obama rose to national prominence as a community organizer, lawyer, and politician.\\n\\nSome notable achievements during his presidency include:\\n\\n1. The Affordable Care Act (ACA), also known as Obamacare, which expanded healthcare access to millions of Americans.\\n2. Ending the war in Iraq.\\n3. Signing the Don\\'t Ask, Don\\'t Tell Repeal Act, allowing LGBTQ individuals to serve openly in the military.\\n4. Implementing the Dodd-Frank Wall Street Reform and Consumer Protection Act to regulate financial institutions.\\n5. Ordering the raid that killed Osama bin Laden, the mastermind behind the 9/11 attacks.\\n\\nAfter leaving office, Obama has remained a prominent figure in American politics and beyond. He is married to Michelle Obama, and they have two daughters, Malia and Sasha.'"
      ]
     },
     "execution_count": 3,
     "metadata": {},
     "output_type": "execute_result"
    }
   ],
   "source": [
    "get_model_response(\"Hello\",\"Who is Obama?\")"
   ]
  },
  {
   "cell_type": "code",
   "execution_count": null,
   "metadata": {},
   "outputs": [],
   "source": []
  }
 ],
 "metadata": {
  "kernelspec": {
   "display_name": "Python 3",
   "language": "python",
   "name": "python3"
  },
  "language_info": {
   "codemirror_mode": {
    "name": "ipython",
    "version": 3
   },
   "file_extension": ".py",
   "mimetype": "text/x-python",
   "name": "python",
   "nbconvert_exporter": "python",
   "pygments_lexer": "ipython3",
   "version": "3.10.12"
  }
 },
 "nbformat": 4,
 "nbformat_minor": 2
}
